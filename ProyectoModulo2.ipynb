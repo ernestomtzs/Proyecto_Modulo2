{
 "cells": [
  {
   "cell_type": "markdown",
   "metadata": {},
   "source": [
    "# Proyecto Módulo 2.\n",
    "\n",
    "### Fractales de paisajes.\n",
    "\n",
    "Integranes:\n",
    ">- Ian Mauricio González\n",
    ">- Ernesto Martínez\n",
    ">- Diego Quintero"
   ]
  },
  {
   "cell_type": "markdown",
   "metadata": {},
   "source": [
    "<p style='text-align: justify;'> Los fractales se utilizan en matemáticas para hacer representaciones visuales de variables a través del tiempo, pero la idea del “patrón” que se repite a sí mismo está presente en la naturaleza, a simple vista. Son objetos geométricos que mantienen la misma estructura básica en diferentes niveles. De esta manera forman un patrón que hace que su desarrollo se mantenga regular. Algunos no nos parecen tan claros, porque a primera vista, son desordenados, pero están ahí. \n",
    "Las raíces de los árboles son un ejemplo de esto, pues crecen con la misma estructura, aunque no de la misma manera. Otros patrones, son mucho más claros, como los encontrados en los copos de nieve. </p>"
   ]
  },
  {
   "cell_type": "markdown",
   "metadata": {},
   "source": [
    "<p style='text-align: justify;'> Un paisaje fractal es una representación de un paisaje, real o imaginado, producido mediante fractales. Originalmente se conoció como paisaje fractal a una forma bidimensional de la forma de una línea de costa fractal. Para construir este tipo de paisajes, básicamente se subdivide un cuadrado en cuatro cuadrados iguales y luego se desplaza aleatoriamente su punto central compartido. El proceso se repite recursivamente en cada cuadrado hasta que se alcanza el nivel de detalle deseado. </p>\n",
    "\n",
    "\n",
    "<p style='text-align: justify;'> Dado que hay muchos procedimientos fractales que pueden ser utilizados para crear datos de terreno, la expresión paisaje fractal se utiliza actualmente en forma genérica. Aunque los paisajes fractales parezcan naturales a primera vista, la exposición repetida puede defraudar a quienes esperen ver el efecto de la erosión en las montañas. La crítica principal es que los procesos fractales simples no reproducen (y quizás no puedan hacerlo) las funciones geológicas y climáticas reales. </p>"
   ]
  },
  {
   "cell_type": "markdown",
   "metadata": {},
   "source": [
    "Las matemáticas pueden describir fenómenos de nuestro mundo, pero no podemos confirmar que sea porque el universo está diseñado matemáticamente. Tal vez las matemáticas son sólo una forma de visibilizar el resultado de las relaciones entre las partes de este gran todo que es el universo."
   ]
  },
  {
   "cell_type": "markdown",
   "metadata": {},
   "source": [
    "### Objetivo:"
   ]
  },
  {
   "cell_type": "markdown",
   "metadata": {},
   "source": [
    "Formar una geometria fractal por medio de una funcion de python, atravez de una matriz que sera la encargada de dar la forma deseada. \n",
    "\n",
    "Se utilizara la libreria pandas, numpy y random para poder formar nuestra matriz.\n",
    "\n",
    "Se buscara formar una geometria fractal arquitectonica, para relazinarlo mas con algo de nuestra carrrera. "
   ]
  },
  {
   "cell_type": "markdown",
   "metadata": {},
   "source": [
    "## Ejemplo geometrias fractales arquitectonicas:"
   ]
  },
  {
   "cell_type": "markdown",
   "metadata": {},
   "source": [
    "<img style=\"float: center; margin: 15px 15px 15px 15px;\" src=\"https://i.pinimg.com/originals/a2/ea/d8/a2ead89d19a9a287b4b1a878d34f7bed.jpg\" width=\"400px\" height=\"125px\" />"
   ]
  },
  {
   "cell_type": "code",
   "execution_count": 4,
   "metadata": {
    "collapsed": true
   },
   "outputs": [],
   "source": [
    "import click\n",
    "import math\n",
    "import numpy as np\n",
    "import matplotlib.pyplot as plt\n",
    "from matplotlib.path import Path\n",
    "import matplotlib.patches as patches\n",
    "from ipywidgets import interact, interactive\n",
    "import ipywidgets as widgets\n",
    "\n",
    "def shape_setup():\n",
    "    width = 200\n",
    "    lines = list()\n",
    "\n",
    "    # Creamos los puntos a, b, c para las esquinas del triángulo\n",
    "    a = np.array([0, 173])\n",
    "    b = np.array([width, 173])\n",
    "    c = np.array([width/2, 173+width*math.cos(math.radians(30))])\n",
    "    \n",
    "    # Líneas que unen los tres puntos a la lista\n",
    "    lines.append(KochLine(a, b))\n",
    "    lines.append(KochLine(b, c))\n",
    "    lines.append(KochLine(c, a))\n",
    "\n",
    "    return lines\n"
   ]
  },
  {
   "cell_type": "code",
   "execution_count": 9,
   "metadata": {
    "collapsed": true
   },
   "outputs": [],
   "source": [
    "def gen_copo(forma_inicial, N):\n",
    "    for i in range(0, N):\n",
    "        # Correr el algoritmo paso a paso\n",
    "        forma_nueva = generate_paso_a_paso(forma_inicial)\n",
    "        # El resultado se hace en la siguiente entrada\n",
    "        forma_inicial = forma_nueva\n",
    "\n",
    "    return forma_inicial"
   ]
  },
  {
   "cell_type": "code",
   "execution_count": 10,
   "metadata": {
    "collapsed": true
   },
   "outputs": [],
   "source": [
    "def generate_paso_a_paso(line_list):\n",
    "    \"\"\"Run the Koch snowflake algorithm once on the input list of points.\n",
    "\n",
    "    Args:\n",
    "        line_list (list): List to run algorithm on.\n",
    "\n",
    "    Returns:\n",
    "        list: A list containing the divided KochLines.\n",
    "    \"\"\"\n",
    "    lista_sig = list()\n",
    "    for l in line_list:\n",
    "        # Create fractal segment by dividing and rotating line segment at five points\n",
    "        a = l.koch_a()\n",
    "        b = l.koch_b()\n",
    "        c = l.koch_c()\n",
    "        d = l.koch_d()\n",
    "        e = l.koch_e()\n",
    "\n",
    "        # Append generated line segments\n",
    "        lista_sig.append(KochLine(a, b))\n",
    "        lista_sig.append(KochLine(b, c))\n",
    "        lista_sig.append(KochLine(c, d))\n",
    "        lista_sig.append(KochLine(d, e))\n",
    "\n",
    "    return lista_sig"
   ]
  },
  {
   "cell_type": "code",
   "execution_count": 11,
   "metadata": {
    "collapsed": true
   },
   "outputs": [],
   "source": [
    "class KochLine(object):\n",
    "    \"\"\" Clase de tipo de lineas para el segmento en Koch snowflake.\"\"\"\n",
    "    def __init__(self, a, b):\n",
    "        self.start = a\n",
    "        self.end = b\n",
    "\n",
    "    def __str__(self):\n",
    "        x, y = self.start\n",
    "        u, v = self.end\n",
    "        return '(({}, {}), ({}, {}))'.format(x, y, u, v)\n",
    "\n",
    "    def koch_a(self):\n",
    "        \"\"\" Regresa punto A the una division the Koch line.\"\"\"\n",
    "        # EL punto inicial de nuestro segmento inicial\n",
    "        return self.start\n",
    "\n",
    "    def koch_b(self):\n",
    "        \"\"\"Regresa Punto B the una division de Koch line.\"\"\"\n",
    "        v = self.end - self.start\n",
    "        # Escala  1/3\n",
    "        v = np.divide(v, 3)\n",
    "        # Añadir escala al vector para empezar un punto\n",
    "        v += self.start\n",
    "        return v\n",
    "\n",
    "    def koch_c(self):\n",
    "        \"\"\"Regresa punto C de una division de Koch line.\"\"\"\n",
    "        a = np.array(self.start, dtype=np.float)\n",
    "        v = np.array(self.end - self.start, dtype=np.float)\n",
    "        # SEscala vector 1/3\n",
    "        v = np.divide(v, 3)\n",
    "        # Añadir escala al vector al punto original\n",
    "        a += v\n",
    "        # Rotar 60 grados\n",
    "        b = rotation_2d(v, -math.radians(60))\n",
    "        #  añadir vector rotado al punto inicial\n",
    "        c = a + b\n",
    "        return c\n",
    "\n",
    "    def koch_d(self):\n",
    "        \"\"\"Regresa punto de una division de Koch line.\"\"\"\n",
    "        v = np.array(self.end - self.start, dtype=np.float)\n",
    "        # Scale vector by 2/3\n",
    "        v *= (2/3.0)\n",
    "        # Add scaled vector to start point\n",
    "        v += self.start\n",
    "        return v\n",
    "\n",
    "    def koch_e(self):\n",
    "        \n",
    "        # EL punto final de nuestro sgemento original\n",
    "        return self.end\n",
    "\n",
    "\n",
    "def rotation_2d(v, angle):\n",
    "    \"\"\"\n",
    "    Rotar un vector 2d por un angulo.\n",
    "\n",
    "    Args:  Angulo a rotar por radianes \n",
    "    \n",
    "        v (tuple): Vector a rotar.\n",
    "        angle (float): Angulo para girar el vector por radianes\n",
    "    Returns:\n",
    "        list: Una lista que contiene el calculo de la magnitud de los vectores\n",
    "        \"\"\"\n",
    "    x, y = v\n",
    "\n",
    "    cos_theta = math.cos(angle)\n",
    "    sin_theta = math.sin(angle)\n",
    "\n",
    "    \n",
    "    nx = x*cos_theta - y*sin_theta\n",
    "    ny = x*sin_theta + y*cos_theta\n",
    "\n",
    "    return [nx, ny]\n",
    "\n",
    "\n",
    "def print_helper(koch_list):\n",
    "    \"\"\"\n",
    "     imprime una lista de punto de una manera organizada.\n",
    "\n",
    "    Args:\n",
    "        koch_list (list): Lista de las lineas de los segmentos que se correran.\n",
    "    \"\"\"\n",
    "    \n",
    "    print(', '.join(str(p)[1:-1] for p in koch_list))\n",
    "\n",
    "\n",
    "def shape_helper(shape):\n",
    "    \"\"\"\n",
    "    Package a shape into a standard data format.\n",
    "\n",
    "    Args:\n",
    "        shape (list): Shape to standardize.\n",
    "\n",
    "    Returns:\n",
    "        Path: A standardized Path version of the shape.\n",
    "    \"\"\"\n",
    "    points = list()\n",
    "\n",
    "    # Append punto de inicio \n",
    "    points.append(tuple(shape[0].start))\n",
    "    for p in shape:\n",
    "        # Append punto final de todas las lineas de los segmentos\n",
    "        points.append(tuple(p.end))\n",
    "\n",
    "    return Path(points)\n"
   ]
  },
  {
   "cell_type": "code",
   "execution_count": 12,
   "metadata": {},
   "outputs": [
    {
     "data": {
      "application/vnd.jupyter.widget-view+json": {
       "model_id": "9c3d45a0a4db45c69956de33f177e3a9"
      }
     },
     "metadata": {},
     "output_type": "display_data"
    },
    {
     "data": {
      "text/plain": [
       "<function __main__.snow_interactive>"
      ]
     },
     "execution_count": 12,
     "metadata": {},
     "output_type": "execute_result"
    }
   ],
   "source": [
    "    #  poner nuestra base_shape , a triangulo\n",
    "    base_shape = shape_setup()\n",
    "    \n",
    "         #funcion para interactuar con nuestro widget\n",
    "\n",
    "    def snow_interactive(depth):\n",
    "        # hacer un Koch snowflake\n",
    "        shape = gen_copo(base_shape, depth)\n",
    "    \n",
    "        #  convierte el snowflake generado a un objeto de camino\n",
    "        path = shape_helper(shape)\n",
    "\n",
    "        \n",
    "        fig = plt.figure()\n",
    "        fig.suptitle('Mueve la barra para cambiar la forma del copo de nieve', fontsize=20)\n",
    "        ax = fig.add_subplot(111)\n",
    "        patch = patches.PathPatch(path, facecolor='blue', lw=1)\n",
    "        ax.add_patch(patch)\n",
    "        ax.set_xlim(-25, 225)\n",
    "        ax.set_ylim(100, 360)\n",
    "        ax.set_aspect('equal', 'datalim')\n",
    "        plt.show()\n",
    "    \n",
    "    \n",
    "    interact(snow_interactive, depth=(0,5,1))\n",
    "    \n"
   ]
  },
  {
   "cell_type": "code",
   "execution_count": null,
   "metadata": {
    "collapsed": true
   },
   "outputs": [],
   "source": []
  },
  {
   "cell_type": "code",
   "execution_count": null,
   "metadata": {
    "collapsed": true
   },
   "outputs": [],
   "source": []
  }
 ],
 "metadata": {
  "kernelspec": {
   "display_name": "Python 3",
   "language": "python",
   "name": "python3"
  },
  "language_info": {
   "codemirror_mode": {
    "name": "ipython",
    "version": 3
   },
   "file_extension": ".py",
   "mimetype": "text/x-python",
   "name": "python",
   "nbconvert_exporter": "python",
   "pygments_lexer": "ipython3",
   "version": "3.6.1"
  }
 },
 "nbformat": 4,
 "nbformat_minor": 2
}
